{
 "cells": [
  {
   "cell_type": "code",
   "execution_count": 1,
   "metadata": {},
   "outputs": [
    {
     "name": "stdout",
     "output_type": "stream",
     "text": [
      "Enter Number: 8\n",
      "The number 8 as binary number is  1000\n"
     ]
    }
   ],
   "source": [
    "#Objective: Test out different python codes for practice\n",
    "\n",
    "import numpy as np\n",
    "from array import *\n",
    "import timeit\n",
    "\n",
    "#1. Binary number system\n",
    "#ask the user to enter a number\n",
    "num = int(input(\"Enter Number: \"))\n",
    "\n",
    "#convert the number into a binary\n",
    "def binary_converter(num):\n",
    "    bin_num = \"\"\n",
    "    if(num !=0):\n",
    "        while (num>=1):\n",
    "            if(num%2==0):\n",
    "                bin_num = bin_num+\"0\"\n",
    "                num = num/2\n",
    "            else:\n",
    "                bin_num = bin_num+\"1\"\n",
    "                num = (num-1)/2\n",
    "    else:\n",
    "        bin_num =\"0\"\n",
    "    return \"\".join(reversed(bin_num))\n",
    "#binary_converter(num)\n",
    "print(\"The number\",num,\"as binary number is \",binary_converter(num))"
   ]
  },
  {
   "cell_type": "code",
   "execution_count": 37,
   "metadata": {},
   "outputs": [
    {
     "name": "stdout",
     "output_type": "stream",
     "text": [
      "This is 1 next is 2\n",
      "This is 2 next is 3\n",
      "This is 3 next is 4\n",
      "This is 4 next is 5\n",
      "I am at 5 now, this is the end!\n"
     ]
    }
   ],
   "source": [
    "# print the values for a given number of times\n",
    "i = 1\n",
    "while i <5:\n",
    "    print(\"This is\",i,\"next is\",i+1)\n",
    "    i = i+1\n",
    "    if (i ==5):\n",
    "        print(\"I am at 5 now, this is the end!\")"
   ]
  },
  {
   "cell_type": "code",
   "execution_count": 3,
   "metadata": {},
   "outputs": [
    {
     "name": "stdout",
     "output_type": "stream",
     "text": [
      "This is number 1\n",
      "This is number 2\n",
      "This is number 3\n",
      "This is number 4\n",
      "This is number 5\n",
      "This is number 6\n",
      "This is number 7\n",
      "This is number 8\n",
      "This is number 9\n"
     ]
    }
   ],
   "source": [
    "#print a number in the range\n",
    "for i in range(1,10):\n",
    "    print(\"This is number\",i)"
   ]
  },
  {
   "cell_type": "code",
   "execution_count": 12,
   "metadata": {},
   "outputs": [
    {
     "name": "stdout",
     "output_type": "stream",
     "text": [
      "Enter a number: 45\n",
      "45 Factorial is 119622220865480194561963161495657715064383733760000000000\n"
     ]
    }
   ],
   "source": [
    "#print factorial of given number\n",
    "num = int(input(\"Enter a number: \"))\n",
    "#initialize the number\n",
    "prod=1\n",
    "for i in range(1,num):\n",
    "    prod = (i+1)*prod\n",
    "print(num,\"Factorial is\",prod)"
   ]
  },
  {
   "cell_type": "code",
   "execution_count": 33,
   "metadata": {},
   "outputs": [
    {
     "name": "stdout",
     "output_type": "stream",
     "text": [
      "*\n",
      "*\n",
      "*\n",
      "*\n",
      "*\n",
      "*\n",
      "*\n",
      "\n",
      "*\n",
      "*\n",
      "*\n",
      "*\n",
      "*\n",
      "\n",
      "\n",
      "*\n",
      "*\n",
      "*\n",
      "\n",
      "\n",
      "\n",
      "*\n"
     ]
    }
   ],
   "source": [
    "#print graphics\n",
    "n =4\n",
    "for i in range(n,0,-1):\n",
    "    for j in range(n-i):\n",
    "        print(''),\n",
    "    for j in range(2*i-1):\n",
    "        print('*'),\n",
    "    print"
   ]
  },
  {
   "cell_type": "code",
   "execution_count": 6,
   "metadata": {},
   "outputs": [],
   "source": [
    "#try print the integer missing in the array\n",
    "def solution(A):\n",
    "    #print number\n",
    "    A = list(sorted(A))\n",
    "    x = min(A)\n",
    "    y = max(A)\n",
    "    min_missing =1\n",
    "    if(x<=0 or y<=0):\n",
    "        min_missing\n",
    "    else:\n",
    "    #create new array\n",
    "        A1 = {}\n",
    "        for i in range(y):\n",
    "            A1[i+1]= [i]\n",
    "        missing = set(A1)-set(A)\n",
    "        if(len(missing)==0):\n",
    "            min_missing = y+1\n",
    "        else:\n",
    "            min_missing = min(missing)\n",
    "    return min_missing\n",
    "    pass"
   ]
  },
  {
   "cell_type": "code",
   "execution_count": 7,
   "metadata": {},
   "outputs": [
    {
     "data": {
      "text/plain": [
       "4"
      ]
     },
     "execution_count": 7,
     "metadata": {},
     "output_type": "execute_result"
    }
   ],
   "source": [
    "A = [1,2,3,6]\n",
    "A2=[-2,-3]\n",
    "solution(A)\n",
    "#sorted(A)\n",
    "#np.arrange(A)\n"
   ]
  },
  {
   "cell_type": "code",
   "execution_count": 8,
   "metadata": {},
   "outputs": [],
   "source": [
    "#Return the lowest number missing in the array list\n",
    "def solution1(A):\n",
    "    min_missing =1\n",
    "    for i in sorted(A):\n",
    "        if(i==min_missing):\n",
    "            min_missing = min_missing+1\n",
    "        if(i>min_missing):\n",
    "            break\n",
    "    return min_missing\n",
    "    "
   ]
  },
  {
   "cell_type": "code",
   "execution_count": 9,
   "metadata": {},
   "outputs": [
    {
     "data": {
      "text/plain": [
       "5"
      ]
     },
     "execution_count": 9,
     "metadata": {},
     "output_type": "execute_result"
    }
   ],
   "source": [
    "Ab = [100,1,2,3,4,545,5444]\n",
    "ab = []\n",
    "solution1(Ab)"
   ]
  },
  {
   "cell_type": "code",
   "execution_count": 10,
   "metadata": {},
   "outputs": [],
   "source": [
    "#This code takes an interger N\n",
    "#Converts the integer into a binary number\n",
    "#Calculates the maximum binary gap (maximum number of zeros between 1ss)\n",
    "def solutionk(N):\n",
    "    #convert the number into binary\n",
    "    bin_num =\"\"\n",
    "    if(N !=0):\n",
    "        while (N>=1):\n",
    "            if(N%2==0):\n",
    "                bin_num = bin_num+\"0\"\n",
    "                N = N/2\n",
    "            else:\n",
    "                bin_num = bin_num+\"1\"\n",
    "                N = (N-1)/2\n",
    "    else:\n",
    "        bin_num =\"0\"\n",
    "    \n",
    "    #strip the trailing zeros & split zeros between ones\n",
    "    x = bin_num.strip('0').split('1')\n",
    "    \n",
    "    #create a dictionary to hold split sizes\n",
    "    #loop through the split list and return the sizes\n",
    "    s = []\n",
    "    for i in x:\n",
    "        a =len(i)\n",
    "        s.append(a)\n",
    "   \n",
    "    #return max length\n",
    "    return max(s)\n",
    "    pass\n",
    "    #timeit.timeit(solutionk(100))"
   ]
  },
  {
   "cell_type": "code",
   "execution_count": null,
   "metadata": {},
   "outputs": [],
   "source": []
  }
 ],
 "metadata": {
  "celltoolbar": "Raw Cell Format",
  "kernelspec": {
   "display_name": "Python 3",
   "language": "python",
   "name": "python3"
  },
  "language_info": {
   "codemirror_mode": {
    "name": "ipython",
    "version": 3
   },
   "file_extension": ".py",
   "mimetype": "text/x-python",
   "name": "python",
   "nbconvert_exporter": "python",
   "pygments_lexer": "ipython3",
   "version": "3.7.1"
  }
 },
 "nbformat": 4,
 "nbformat_minor": 2
}
